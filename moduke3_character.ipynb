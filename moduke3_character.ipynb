In [4]:
#occurances of a sub string in a string
str="python is awesome"
substr="is"
count=str.count(substr)
print("the count is",count)
the count is 1
In [5]:
#string to a list
def convert(string):
          li=list(string.split(" "))
           return li
str1="geeks for geeks"
print(convert(str1))
['geeks', 'for', 'geeks']
In [6]:
#deletion of a character
str="geeksforgeeks"
new_str=" "
for i in range(len(str)):
               if i!=2:
               new_str=new_str + str[i]
print("the string after removal of ith character :"+ new_str)
the string after removal of ith character : geksforgeeks
In [8]:
#new line character
str="hello"
for index,letter in enumerate(str,1):
               print(index,":",letter)
1 : h
2 : e
3 : l
4 : l
5 : o
In [15]:
#without using length function
str=input("enter the string")
count=0
for s in str:
              count=count+1
print("length of input string is:",count)
enter the stringrefrigerator
length of input string is: 12
In [16]:
#to remove a newline in python
str="abc\n"
print(str)
str=str.rstrip("\n")
print(str)
abc

abc
